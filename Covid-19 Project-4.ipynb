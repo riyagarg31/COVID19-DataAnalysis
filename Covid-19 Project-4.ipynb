{
 "cells": [
  {
   "cell_type": "code",
   "execution_count": 46,
   "metadata": {},
   "outputs": [],
   "source": [
    "#here we have data of different age groups affected by Covid-19. We analyse this data by using different libraries."
   ]
  },
  {
   "cell_type": "code",
   "execution_count": 47,
   "metadata": {},
   "outputs": [],
   "source": [
    "import pandas as pd\n",
    "import numpy as np\n",
    "import matplotlib.pyplot as plt\n",
    "%matplotlib inline"
   ]
  },
  {
   "cell_type": "code",
   "execution_count": 48,
   "metadata": {},
   "outputs": [],
   "source": [
    "pd.set_option(\"display.max_rows\",None,\"display.max_columns\",None)"
   ]
  },
  {
   "cell_type": "code",
   "execution_count": 49,
   "metadata": {},
   "outputs": [],
   "source": [
    "age_groups=pd.read_csv(\"AgeGroupDetails.csv\")"
   ]
  },
  {
   "cell_type": "code",
   "execution_count": 50,
   "metadata": {},
   "outputs": [
    {
     "data": {
      "text/html": [
       "<div>\n",
       "<style scoped>\n",
       "    .dataframe tbody tr th:only-of-type {\n",
       "        vertical-align: middle;\n",
       "    }\n",
       "\n",
       "    .dataframe tbody tr th {\n",
       "        vertical-align: top;\n",
       "    }\n",
       "\n",
       "    .dataframe thead th {\n",
       "        text-align: right;\n",
       "    }\n",
       "</style>\n",
       "<table border=\"1\" class=\"dataframe\">\n",
       "  <thead>\n",
       "    <tr style=\"text-align: right;\">\n",
       "      <th></th>\n",
       "      <th>Sno</th>\n",
       "      <th>AgeGroup</th>\n",
       "      <th>TotalCases</th>\n",
       "      <th>Percentage</th>\n",
       "    </tr>\n",
       "  </thead>\n",
       "  <tbody>\n",
       "    <tr>\n",
       "      <th>0</th>\n",
       "      <td>1.0</td>\n",
       "      <td>0to9</td>\n",
       "      <td>22.0</td>\n",
       "      <td>3.18%</td>\n",
       "    </tr>\n",
       "    <tr>\n",
       "      <th>1</th>\n",
       "      <td>2.0</td>\n",
       "      <td>10to19</td>\n",
       "      <td>27.0</td>\n",
       "      <td>3.90%</td>\n",
       "    </tr>\n",
       "    <tr>\n",
       "      <th>2</th>\n",
       "      <td>3.0</td>\n",
       "      <td>20to29</td>\n",
       "      <td>172.0</td>\n",
       "      <td>24.86%</td>\n",
       "    </tr>\n",
       "    <tr>\n",
       "      <th>3</th>\n",
       "      <td>4.0</td>\n",
       "      <td>30to39</td>\n",
       "      <td>146.0</td>\n",
       "      <td>21.10%</td>\n",
       "    </tr>\n",
       "    <tr>\n",
       "      <th>4</th>\n",
       "      <td>5.0</td>\n",
       "      <td>40to49</td>\n",
       "      <td>112.0</td>\n",
       "      <td>16.18%</td>\n",
       "    </tr>\n",
       "    <tr>\n",
       "      <th>5</th>\n",
       "      <td>6.0</td>\n",
       "      <td>50to59</td>\n",
       "      <td>77.0</td>\n",
       "      <td>11.13%</td>\n",
       "    </tr>\n",
       "    <tr>\n",
       "      <th>6</th>\n",
       "      <td>7.0</td>\n",
       "      <td>60to69</td>\n",
       "      <td>89.0</td>\n",
       "      <td>12.86%</td>\n",
       "    </tr>\n",
       "    <tr>\n",
       "      <th>7</th>\n",
       "      <td>8.0</td>\n",
       "      <td>70to79</td>\n",
       "      <td>28.0</td>\n",
       "      <td>4.05%</td>\n",
       "    </tr>\n",
       "    <tr>\n",
       "      <th>8</th>\n",
       "      <td>9.0</td>\n",
       "      <td>&gt;=80</td>\n",
       "      <td>10.0</td>\n",
       "      <td>1.45%</td>\n",
       "    </tr>\n",
       "    <tr>\n",
       "      <th>9</th>\n",
       "      <td>NaN</td>\n",
       "      <td>NaN</td>\n",
       "      <td>NaN</td>\n",
       "      <td>NaN</td>\n",
       "    </tr>\n",
       "  </tbody>\n",
       "</table>\n",
       "</div>"
      ],
      "text/plain": [
       "   Sno AgeGroup  TotalCases Percentage\n",
       "0  1.0     0to9        22.0      3.18%\n",
       "1  2.0   10to19        27.0      3.90%\n",
       "2  3.0   20to29       172.0     24.86%\n",
       "3  4.0   30to39       146.0     21.10%\n",
       "4  5.0   40to49       112.0     16.18%\n",
       "5  6.0   50to59        77.0     11.13%\n",
       "6  7.0   60to69        89.0     12.86%\n",
       "7  8.0   70to79        28.0      4.05%\n",
       "8  9.0     >=80        10.0      1.45%\n",
       "9  NaN      NaN         NaN        NaN"
      ]
     },
     "execution_count": 50,
     "metadata": {},
     "output_type": "execute_result"
    }
   ],
   "source": [
    "age_groups"
   ]
  },
  {
   "cell_type": "code",
   "execution_count": 51,
   "metadata": {},
   "outputs": [],
   "source": [
    "#removing irrelevalnt columns."
   ]
  },
  {
   "cell_type": "code",
   "execution_count": 52,
   "metadata": {},
   "outputs": [],
   "source": [
    "age_groups=age_groups.drop(\"Sno\",axis=\"columns\")"
   ]
  },
  {
   "cell_type": "code",
   "execution_count": 53,
   "metadata": {},
   "outputs": [],
   "source": [
    "age_groups.dropna(inplace=True)"
   ]
  },
  {
   "cell_type": "code",
   "execution_count": 54,
   "metadata": {},
   "outputs": [
    {
     "data": {
      "text/html": [
       "<div>\n",
       "<style scoped>\n",
       "    .dataframe tbody tr th:only-of-type {\n",
       "        vertical-align: middle;\n",
       "    }\n",
       "\n",
       "    .dataframe tbody tr th {\n",
       "        vertical-align: top;\n",
       "    }\n",
       "\n",
       "    .dataframe thead th {\n",
       "        text-align: right;\n",
       "    }\n",
       "</style>\n",
       "<table border=\"1\" class=\"dataframe\">\n",
       "  <thead>\n",
       "    <tr style=\"text-align: right;\">\n",
       "      <th></th>\n",
       "      <th>AgeGroup</th>\n",
       "      <th>TotalCases</th>\n",
       "      <th>Percentage</th>\n",
       "    </tr>\n",
       "  </thead>\n",
       "  <tbody>\n",
       "    <tr>\n",
       "      <th>0</th>\n",
       "      <td>0to9</td>\n",
       "      <td>22.0</td>\n",
       "      <td>3.18%</td>\n",
       "    </tr>\n",
       "    <tr>\n",
       "      <th>1</th>\n",
       "      <td>10to19</td>\n",
       "      <td>27.0</td>\n",
       "      <td>3.90%</td>\n",
       "    </tr>\n",
       "    <tr>\n",
       "      <th>2</th>\n",
       "      <td>20to29</td>\n",
       "      <td>172.0</td>\n",
       "      <td>24.86%</td>\n",
       "    </tr>\n",
       "    <tr>\n",
       "      <th>3</th>\n",
       "      <td>30to39</td>\n",
       "      <td>146.0</td>\n",
       "      <td>21.10%</td>\n",
       "    </tr>\n",
       "    <tr>\n",
       "      <th>4</th>\n",
       "      <td>40to49</td>\n",
       "      <td>112.0</td>\n",
       "      <td>16.18%</td>\n",
       "    </tr>\n",
       "    <tr>\n",
       "      <th>5</th>\n",
       "      <td>50to59</td>\n",
       "      <td>77.0</td>\n",
       "      <td>11.13%</td>\n",
       "    </tr>\n",
       "    <tr>\n",
       "      <th>6</th>\n",
       "      <td>60to69</td>\n",
       "      <td>89.0</td>\n",
       "      <td>12.86%</td>\n",
       "    </tr>\n",
       "    <tr>\n",
       "      <th>7</th>\n",
       "      <td>70to79</td>\n",
       "      <td>28.0</td>\n",
       "      <td>4.05%</td>\n",
       "    </tr>\n",
       "    <tr>\n",
       "      <th>8</th>\n",
       "      <td>&gt;=80</td>\n",
       "      <td>10.0</td>\n",
       "      <td>1.45%</td>\n",
       "    </tr>\n",
       "  </tbody>\n",
       "</table>\n",
       "</div>"
      ],
      "text/plain": [
       "  AgeGroup  TotalCases Percentage\n",
       "0     0to9        22.0      3.18%\n",
       "1   10to19        27.0      3.90%\n",
       "2   20to29       172.0     24.86%\n",
       "3   30to39       146.0     21.10%\n",
       "4   40to49       112.0     16.18%\n",
       "5   50to59        77.0     11.13%\n",
       "6   60to69        89.0     12.86%\n",
       "7   70to79        28.0      4.05%\n",
       "8     >=80        10.0      1.45%"
      ]
     },
     "execution_count": 54,
     "metadata": {},
     "output_type": "execute_result"
    }
   ],
   "source": [
    "age_groups"
   ]
  },
  {
   "cell_type": "code",
   "execution_count": 55,
   "metadata": {},
   "outputs": [],
   "source": [
    "#highest total cases age group"
   ]
  },
  {
   "cell_type": "code",
   "execution_count": 56,
   "metadata": {},
   "outputs": [
    {
     "data": {
      "text/html": [
       "<style  type=\"text/css\" >\n",
       "    #T_9bb05f8f_e2ce_11ea_b0f9_588a5a498b8arow0_col1 {\n",
       "            background-color:  #67000d;\n",
       "            color:  #f1f1f1;\n",
       "        }    #T_9bb05f8f_e2ce_11ea_b0f9_588a5a498b8arow1_col1 {\n",
       "            background-color:  #b01217;\n",
       "            color:  #f1f1f1;\n",
       "        }    #T_9bb05f8f_e2ce_11ea_b0f9_588a5a498b8arow2_col1 {\n",
       "            background-color:  #ed392b;\n",
       "            color:  #f1f1f1;\n",
       "        }    #T_9bb05f8f_e2ce_11ea_b0f9_588a5a498b8arow3_col1 {\n",
       "            background-color:  #fb6e4e;\n",
       "            color:  #000000;\n",
       "        }    #T_9bb05f8f_e2ce_11ea_b0f9_588a5a498b8arow4_col1 {\n",
       "            background-color:  #fc8666;\n",
       "            color:  #000000;\n",
       "        }    #T_9bb05f8f_e2ce_11ea_b0f9_588a5a498b8arow5_col1 {\n",
       "            background-color:  #fee3d6;\n",
       "            color:  #000000;\n",
       "        }    #T_9bb05f8f_e2ce_11ea_b0f9_588a5a498b8arow6_col1 {\n",
       "            background-color:  #fee4d8;\n",
       "            color:  #000000;\n",
       "        }    #T_9bb05f8f_e2ce_11ea_b0f9_588a5a498b8arow7_col1 {\n",
       "            background-color:  #fee9df;\n",
       "            color:  #000000;\n",
       "        }    #T_9bb05f8f_e2ce_11ea_b0f9_588a5a498b8arow8_col1 {\n",
       "            background-color:  #fff5f0;\n",
       "            color:  #000000;\n",
       "        }</style><table id=\"T_9bb05f8f_e2ce_11ea_b0f9_588a5a498b8a\" ><thead>    <tr>        <th class=\"blank level0\" ></th>        <th class=\"col_heading level0 col0\" >AgeGroup</th>        <th class=\"col_heading level0 col1\" >TotalCases</th>    </tr></thead><tbody>\n",
       "                <tr>\n",
       "                        <th id=\"T_9bb05f8f_e2ce_11ea_b0f9_588a5a498b8alevel0_row0\" class=\"row_heading level0 row0\" >2</th>\n",
       "                        <td id=\"T_9bb05f8f_e2ce_11ea_b0f9_588a5a498b8arow0_col0\" class=\"data row0 col0\" >20to29</td>\n",
       "                        <td id=\"T_9bb05f8f_e2ce_11ea_b0f9_588a5a498b8arow0_col1\" class=\"data row0 col1\" >172.000000</td>\n",
       "            </tr>\n",
       "            <tr>\n",
       "                        <th id=\"T_9bb05f8f_e2ce_11ea_b0f9_588a5a498b8alevel0_row1\" class=\"row_heading level0 row1\" >3</th>\n",
       "                        <td id=\"T_9bb05f8f_e2ce_11ea_b0f9_588a5a498b8arow1_col0\" class=\"data row1 col0\" >30to39</td>\n",
       "                        <td id=\"T_9bb05f8f_e2ce_11ea_b0f9_588a5a498b8arow1_col1\" class=\"data row1 col1\" >146.000000</td>\n",
       "            </tr>\n",
       "            <tr>\n",
       "                        <th id=\"T_9bb05f8f_e2ce_11ea_b0f9_588a5a498b8alevel0_row2\" class=\"row_heading level0 row2\" >4</th>\n",
       "                        <td id=\"T_9bb05f8f_e2ce_11ea_b0f9_588a5a498b8arow2_col0\" class=\"data row2 col0\" >40to49</td>\n",
       "                        <td id=\"T_9bb05f8f_e2ce_11ea_b0f9_588a5a498b8arow2_col1\" class=\"data row2 col1\" >112.000000</td>\n",
       "            </tr>\n",
       "            <tr>\n",
       "                        <th id=\"T_9bb05f8f_e2ce_11ea_b0f9_588a5a498b8alevel0_row3\" class=\"row_heading level0 row3\" >6</th>\n",
       "                        <td id=\"T_9bb05f8f_e2ce_11ea_b0f9_588a5a498b8arow3_col0\" class=\"data row3 col0\" >60to69</td>\n",
       "                        <td id=\"T_9bb05f8f_e2ce_11ea_b0f9_588a5a498b8arow3_col1\" class=\"data row3 col1\" >89.000000</td>\n",
       "            </tr>\n",
       "            <tr>\n",
       "                        <th id=\"T_9bb05f8f_e2ce_11ea_b0f9_588a5a498b8alevel0_row4\" class=\"row_heading level0 row4\" >5</th>\n",
       "                        <td id=\"T_9bb05f8f_e2ce_11ea_b0f9_588a5a498b8arow4_col0\" class=\"data row4 col0\" >50to59</td>\n",
       "                        <td id=\"T_9bb05f8f_e2ce_11ea_b0f9_588a5a498b8arow4_col1\" class=\"data row4 col1\" >77.000000</td>\n",
       "            </tr>\n",
       "            <tr>\n",
       "                        <th id=\"T_9bb05f8f_e2ce_11ea_b0f9_588a5a498b8alevel0_row5\" class=\"row_heading level0 row5\" >7</th>\n",
       "                        <td id=\"T_9bb05f8f_e2ce_11ea_b0f9_588a5a498b8arow5_col0\" class=\"data row5 col0\" >70to79</td>\n",
       "                        <td id=\"T_9bb05f8f_e2ce_11ea_b0f9_588a5a498b8arow5_col1\" class=\"data row5 col1\" >28.000000</td>\n",
       "            </tr>\n",
       "            <tr>\n",
       "                        <th id=\"T_9bb05f8f_e2ce_11ea_b0f9_588a5a498b8alevel0_row6\" class=\"row_heading level0 row6\" >1</th>\n",
       "                        <td id=\"T_9bb05f8f_e2ce_11ea_b0f9_588a5a498b8arow6_col0\" class=\"data row6 col0\" >10to19</td>\n",
       "                        <td id=\"T_9bb05f8f_e2ce_11ea_b0f9_588a5a498b8arow6_col1\" class=\"data row6 col1\" >27.000000</td>\n",
       "            </tr>\n",
       "            <tr>\n",
       "                        <th id=\"T_9bb05f8f_e2ce_11ea_b0f9_588a5a498b8alevel0_row7\" class=\"row_heading level0 row7\" >0</th>\n",
       "                        <td id=\"T_9bb05f8f_e2ce_11ea_b0f9_588a5a498b8arow7_col0\" class=\"data row7 col0\" >0to9</td>\n",
       "                        <td id=\"T_9bb05f8f_e2ce_11ea_b0f9_588a5a498b8arow7_col1\" class=\"data row7 col1\" >22.000000</td>\n",
       "            </tr>\n",
       "            <tr>\n",
       "                        <th id=\"T_9bb05f8f_e2ce_11ea_b0f9_588a5a498b8alevel0_row8\" class=\"row_heading level0 row8\" >8</th>\n",
       "                        <td id=\"T_9bb05f8f_e2ce_11ea_b0f9_588a5a498b8arow8_col0\" class=\"data row8 col0\" >>=80</td>\n",
       "                        <td id=\"T_9bb05f8f_e2ce_11ea_b0f9_588a5a498b8arow8_col1\" class=\"data row8 col1\" >10.000000</td>\n",
       "            </tr>\n",
       "    </tbody></table>"
      ],
      "text/plain": [
       "<pandas.io.formats.style.Styler at 0x238f2501b50>"
      ]
     },
     "execution_count": 56,
     "metadata": {},
     "output_type": "execute_result"
    }
   ],
   "source": [
    "age_groups[[\"AgeGroup\",\"TotalCases\"]].sort_values(\"TotalCases\",ascending=False).style.background_gradient(cmap=\"Reds\")"
   ]
  },
  {
   "cell_type": "code",
   "execution_count": 57,
   "metadata": {},
   "outputs": [],
   "source": [
    "#graphical representation"
   ]
  },
  {
   "cell_type": "code",
   "execution_count": 58,
   "metadata": {},
   "outputs": [],
   "source": [
    "plt.rcParams[\"figure.figsize\"]=17,8"
   ]
  },
  {
   "cell_type": "code",
   "execution_count": 59,
   "metadata": {},
   "outputs": [],
   "source": [
    "plt.style.use(\"ggplot\")"
   ]
  },
  {
   "cell_type": "code",
   "execution_count": 60,
   "metadata": {},
   "outputs": [
    {
     "data": {
      "text/plain": [
       "<matplotlib.axes._subplots.AxesSubplot at 0x238f24ae7f0>"
      ]
     },
     "execution_count": 60,
     "metadata": {},
     "output_type": "execute_result"
    },
    {
     "data": {
      "image/png": "[encoded data removed]",
      "text/plain": [
       "<Figure size 1224x576 with 1 Axes>"
      ]
     },
     "metadata": {},
     "output_type": "display_data"
    }
   ],
   "source": [
    "age_groups.plot(kind=\"barh\",x=\"AgeGroup\",y=\"TotalCases\")"
   ]
  },
  {
   "cell_type": "code",
   "execution_count": 61,
   "metadata": {},
   "outputs": [
    {
     "data": {
      "text/html": [
       "<div>\n",
       "<style scoped>\n",
       "    .dataframe tbody tr th:only-of-type {\n",
       "        vertical-align: middle;\n",
       "    }\n",
       "\n",
       "    .dataframe tbody tr th {\n",
       "        vertical-align: top;\n",
       "    }\n",
       "\n",
       "    .dataframe thead th {\n",
       "        text-align: right;\n",
       "    }\n",
       "</style>\n",
       "<table border=\"1\" class=\"dataframe\">\n",
       "  <thead>\n",
       "    <tr style=\"text-align: right;\">\n",
       "      <th></th>\n",
       "      <th>AgeGroup</th>\n",
       "      <th>TotalCases</th>\n",
       "      <th>Percentage</th>\n",
       "    </tr>\n",
       "  </thead>\n",
       "  <tbody>\n",
       "    <tr>\n",
       "      <th>0</th>\n",
       "      <td>0to9</td>\n",
       "      <td>22.0</td>\n",
       "      <td>3.18%</td>\n",
       "    </tr>\n",
       "    <tr>\n",
       "      <th>1</th>\n",
       "      <td>10to19</td>\n",
       "      <td>27.0</td>\n",
       "      <td>3.90%</td>\n",
       "    </tr>\n",
       "    <tr>\n",
       "      <th>2</th>\n",
       "      <td>20to29</td>\n",
       "      <td>172.0</td>\n",
       "      <td>24.86%</td>\n",
       "    </tr>\n",
       "    <tr>\n",
       "      <th>3</th>\n",
       "      <td>30to39</td>\n",
       "      <td>146.0</td>\n",
       "      <td>21.10%</td>\n",
       "    </tr>\n",
       "    <tr>\n",
       "      <th>4</th>\n",
       "      <td>40to49</td>\n",
       "      <td>112.0</td>\n",
       "      <td>16.18%</td>\n",
       "    </tr>\n",
       "    <tr>\n",
       "      <th>5</th>\n",
       "      <td>50to59</td>\n",
       "      <td>77.0</td>\n",
       "      <td>11.13%</td>\n",
       "    </tr>\n",
       "    <tr>\n",
       "      <th>6</th>\n",
       "      <td>60to69</td>\n",
       "      <td>89.0</td>\n",
       "      <td>12.86%</td>\n",
       "    </tr>\n",
       "    <tr>\n",
       "      <th>7</th>\n",
       "      <td>70to79</td>\n",
       "      <td>28.0</td>\n",
       "      <td>4.05%</td>\n",
       "    </tr>\n",
       "    <tr>\n",
       "      <th>8</th>\n",
       "      <td>&gt;=80</td>\n",
       "      <td>10.0</td>\n",
       "      <td>1.45%</td>\n",
       "    </tr>\n",
       "  </tbody>\n",
       "</table>\n",
       "</div>"
      ],
      "text/plain": [
       "  AgeGroup  TotalCases Percentage\n",
       "0     0to9        22.0      3.18%\n",
       "1   10to19        27.0      3.90%\n",
       "2   20to29       172.0     24.86%\n",
       "3   30to39       146.0     21.10%\n",
       "4   40to49       112.0     16.18%\n",
       "5   50to59        77.0     11.13%\n",
       "6   60to69        89.0     12.86%\n",
       "7   70to79        28.0      4.05%\n",
       "8     >=80        10.0      1.45%"
      ]
     },
     "execution_count": 61,
     "metadata": {},
     "output_type": "execute_result"
    }
   ],
   "source": [
    "age_groups"
   ]
  },
  {
   "cell_type": "code",
   "execution_count": 62,
   "metadata": {},
   "outputs": [],
   "source": [
    "#filteration"
   ]
  },
  {
   "cell_type": "code",
   "execution_count": 65,
   "metadata": {},
   "outputs": [
    {
     "data": {
      "text/html": [
       "<div>\n",
       "<style scoped>\n",
       "    .dataframe tbody tr th:only-of-type {\n",
       "        vertical-align: middle;\n",
       "    }\n",
       "\n",
       "    .dataframe tbody tr th {\n",
       "        vertical-align: top;\n",
       "    }\n",
       "\n",
       "    .dataframe thead th {\n",
       "        text-align: right;\n",
       "    }\n",
       "</style>\n",
       "<table border=\"1\" class=\"dataframe\">\n",
       "  <thead>\n",
       "    <tr style=\"text-align: right;\">\n",
       "      <th></th>\n",
       "      <th>AgeGroup</th>\n",
       "      <th>TotalCases</th>\n",
       "      <th>Percentage</th>\n",
       "    </tr>\n",
       "  </thead>\n",
       "  <tbody>\n",
       "    <tr>\n",
       "      <th>2</th>\n",
       "      <td>20to29</td>\n",
       "      <td>172.0</td>\n",
       "      <td>24.86%</td>\n",
       "    </tr>\n",
       "    <tr>\n",
       "      <th>3</th>\n",
       "      <td>30to39</td>\n",
       "      <td>146.0</td>\n",
       "      <td>21.10%</td>\n",
       "    </tr>\n",
       "    <tr>\n",
       "      <th>4</th>\n",
       "      <td>40to49</td>\n",
       "      <td>112.0</td>\n",
       "      <td>16.18%</td>\n",
       "    </tr>\n",
       "  </tbody>\n",
       "</table>\n",
       "</div>"
      ],
      "text/plain": [
       "  AgeGroup  TotalCases Percentage\n",
       "2   20to29       172.0     24.86%\n",
       "3   30to39       146.0     21.10%\n",
       "4   40to49       112.0     16.18%"
      ]
     },
     "execution_count": 65,
     "metadata": {},
     "output_type": "execute_result"
    }
   ],
   "source": [
    "mask1=age_groups[\"TotalCases\"]>100\n",
    "age_groups[mask1]"
   ]
  },
  {
   "cell_type": "code",
   "execution_count": 66,
   "metadata": {},
   "outputs": [
    {
     "data": {
      "text/html": [
       "<div>\n",
       "<style scoped>\n",
       "    .dataframe tbody tr th:only-of-type {\n",
       "        vertical-align: middle;\n",
       "    }\n",
       "\n",
       "    .dataframe tbody tr th {\n",
       "        vertical-align: top;\n",
       "    }\n",
       "\n",
       "    .dataframe thead th {\n",
       "        text-align: right;\n",
       "    }\n",
       "</style>\n",
       "<table border=\"1\" class=\"dataframe\">\n",
       "  <thead>\n",
       "    <tr style=\"text-align: right;\">\n",
       "      <th></th>\n",
       "      <th>AgeGroup</th>\n",
       "      <th>TotalCases</th>\n",
       "      <th>Percentage</th>\n",
       "    </tr>\n",
       "  </thead>\n",
       "  <tbody>\n",
       "    <tr>\n",
       "      <th>0</th>\n",
       "      <td>0to9</td>\n",
       "      <td>22.0</td>\n",
       "      <td>3.18%</td>\n",
       "    </tr>\n",
       "    <tr>\n",
       "      <th>1</th>\n",
       "      <td>10to19</td>\n",
       "      <td>27.0</td>\n",
       "      <td>3.90%</td>\n",
       "    </tr>\n",
       "    <tr>\n",
       "      <th>7</th>\n",
       "      <td>70to79</td>\n",
       "      <td>28.0</td>\n",
       "      <td>4.05%</td>\n",
       "    </tr>\n",
       "    <tr>\n",
       "      <th>8</th>\n",
       "      <td>&gt;=80</td>\n",
       "      <td>10.0</td>\n",
       "      <td>1.45%</td>\n",
       "    </tr>\n",
       "  </tbody>\n",
       "</table>\n",
       "</div>"
      ],
      "text/plain": [
       "  AgeGroup  TotalCases Percentage\n",
       "0     0to9        22.0      3.18%\n",
       "1   10to19        27.0      3.90%\n",
       "7   70to79        28.0      4.05%\n",
       "8     >=80        10.0      1.45%"
      ]
     },
     "execution_count": 66,
     "metadata": {},
     "output_type": "execute_result"
    }
   ],
   "source": [
    "mask2=age_groups[\"TotalCases\"]<50\n",
    "age_groups[mask2]"
   ]
  }
 ],
 "metadata": {
  "kernelspec": {
   "display_name": "Python 3",
   "language": "python",
   "name": "python3"
  },
  "language_info": {
   "codemirror_mode": {
    "name": "ipython",
    "version": 3
   },
   "file_extension": ".py",
   "mimetype": "text/x-python",
   "name": "python",
   "nbconvert_exporter": "python",
   "pygments_lexer": "ipython3",
   "version": "3.8.3"
  }
 },
 "nbformat": 4,
 "nbformat_minor": 4
}
